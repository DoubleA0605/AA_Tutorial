{
 "cells": [
  {
   "cell_type": "code",
   "execution_count": 1,
   "metadata": {},
   "outputs": [],
   "source": [
    "class car:\n",
    "    name = \"\"\n",
    "    speed = None\n",
    "    fuel = None\n",
    "\n",
    "    # methods (function)\n",
    "    def __init__(self, Name, Speed, Fuel):\n",
    "        self.name = Name\n",
    "        self.speed = Speed\n",
    "        self.fuel = Fuel\n",
    "    \n",
    "    def printcar(self):\n",
    "        print(self.name, self.speed, self.fuel)"
   ]
  },
  {
   "cell_type": "code",
   "execution_count": 2,
   "metadata": {},
   "outputs": [],
   "source": [
    "car1 = car(\"Not a Ferrari\", 3.00, 1)\n",
    "car2 = car(\"AA's Ferrari\", 5.0, 2)"
   ]
  },
  {
   "cell_type": "code",
   "execution_count": 3,
   "metadata": {},
   "outputs": [
    {
     "name": "stdout",
     "output_type": "stream",
     "text": [
      "Not a Ferrari 3.0 1\n",
      "AA's Ferrari\n"
     ]
    }
   ],
   "source": [
    "print(car1.name, car1.speed, car1.fuel)\n",
    "print(car2.name)"
   ]
  },
  {
   "cell_type": "code",
   "execution_count": 6,
   "metadata": {},
   "outputs": [
    {
     "name": "stdout",
     "output_type": "stream",
     "text": [
      "Not a Ferrari 3.0 1\n",
      "AA's Ferrari 5.0 2\n"
     ]
    }
   ],
   "source": [
    "car1.printcar()\n",
    "car2.printcar()"
   ]
  },
  {
   "cell_type": "code",
   "execution_count": 5,
   "metadata": {},
   "outputs": [
    {
     "name": "stdout",
     "output_type": "stream",
     "text": [
      "3.0\n",
      "5.0\n"
     ]
    }
   ],
   "source": [
    "print(car1.speed)\n",
    "print(car2.speed)"
   ]
  }
 ],
 "metadata": {
  "kernelspec": {
   "display_name": "Python 3",
   "language": "python",
   "name": "python3"
  },
  "language_info": {
   "codemirror_mode": {
    "name": "ipython",
    "version": 3
   },
   "file_extension": ".py",
   "mimetype": "text/x-python",
   "name": "python",
   "nbconvert_exporter": "python",
   "pygments_lexer": "ipython3",
   "version": "3.10.5"
  }
 },
 "nbformat": 4,
 "nbformat_minor": 2
}
